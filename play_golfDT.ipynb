{
  "nbformat": 4,
  "nbformat_minor": 0,
  "metadata": {
    "kernelspec": {
      "display_name": "Python 3",
      "language": "python",
      "name": "python3"
    },
    "language_info": {
      "codemirror_mode": {
        "name": "ipython",
        "version": 3
      },
      "file_extension": ".py",
      "mimetype": "text/x-python",
      "name": "python",
      "nbconvert_exporter": "python",
      "pygments_lexer": "ipython3",
      "version": "3.8.3"
    },
    "colab": {
      "name": "play_golfDT.ipynb",
      "provenance": [],
      "collapsed_sections": []
    }
  },
  "cells": [
    {
      "cell_type": "code",
      "metadata": {
        "colab": {
          "base_uri": "https://localhost:8080/"
        },
        "id": "8y-P3PwxFQTC",
        "outputId": "b11d084d-b4dd-45a5-9d82-c3523e482438"
      },
      "source": [
        "\n",
        "print(__doc__)\n",
        "\n",
        "import numpy as np\n",
        "import matplotlib.pyplot as plt\n",
        "import pandas as pd\n",
        "from numpy import inf"
      ],
      "execution_count": 1,
      "outputs": [
        {
          "output_type": "stream",
          "text": [
            "Automatically created module for IPython interactive environment\n"
          ],
          "name": "stdout"
        }
      ]
    },
    {
      "cell_type": "code",
      "metadata": {
        "id": "RFV1G2pQFQTH"
      },
      "source": [
        "#df = pd.read_csv('../dataset/playgolf.csv')\n",
        "df = pd.read_csv('https://raw.githubusercontent.com/mamintoosi/DM/master/dataset/playgolf.csv')"
      ],
      "execution_count": 2,
      "outputs": []
    },
    {
      "cell_type": "code",
      "metadata": {
        "colab": {
          "base_uri": "https://localhost:8080/"
        },
        "id": "mzjgMIL2FQTI",
        "outputId": "0e745f3f-ca18-4b99-a7f2-ece299bc111f"
      },
      "source": [
        "print(df)"
      ],
      "execution_count": 3,
      "outputs": [
        {
          "output_type": "stream",
          "text": [
            "     Outlook  Temp Humidity  Windy Play Golf\n",
            "0      Rainy   Hot     High  False        No\n",
            "1      Rainy   Hot     High   True        No\n",
            "2   Overcast   Hot     High  False       Yes\n",
            "3      Sunny  Mild     High  False       Yes\n",
            "4      Sunny  Cool   Normal  False       Yes\n",
            "5      Sunny  Cool   Normal   True        No\n",
            "6   Overcast  Cool   Normal   True       Yes\n",
            "7      Rainy  Mild     High  False        No\n",
            "8      Rainy  Cool   Normal  False       Yes\n",
            "9      Sunny  Mild   Normal  False       Yes\n",
            "10     Rainy  Mild   Normal   True       Yes\n",
            "11  Overcast  Mild     High   True       Yes\n",
            "12  Overcast   Hot   Normal  False       Yes\n",
            "13     Sunny  Mild     High   True        No\n"
          ],
          "name": "stdout"
        }
      ]
    },
    {
      "cell_type": "code",
      "metadata": {
        "colab": {
          "base_uri": "https://localhost:8080/"
        },
        "id": "8dPnusCsFQTI",
        "outputId": "c3e0c7f7-470c-4d2f-8d8d-34b14744e15c"
      },
      "source": [
        "# data['Play Golf']\n",
        "S = df['Play Golf']\n",
        "print(type(S),len(S))\n",
        "p1 = sum(S=='Yes')/len(S)\n",
        "p2 = sum(S!='Yes')/len(S)\n",
        "print(p1,p2)"
      ],
      "execution_count": 4,
      "outputs": [
        {
          "output_type": "stream",
          "text": [
            "<class 'pandas.core.series.Series'> 14\n",
            "0.6428571428571429 0.35714285714285715\n"
          ],
          "name": "stdout"
        }
      ]
    },
    {
      "cell_type": "code",
      "metadata": {
        "colab": {
          "base_uri": "https://localhost:8080/"
        },
        "id": "Tv7C0H2OFQTJ",
        "outputId": "2b81f459-efaa-498a-ac31-86938996ad02"
      },
      "source": [
        "E = -p1*np.log2(p1) - p2*np.log2(p2)\n",
        "print(E)"
      ],
      "execution_count": 5,
      "outputs": [
        {
          "output_type": "stream",
          "text": [
            "0.9402859586706309\n"
          ],
          "name": "stdout"
        }
      ]
    },
    {
      "cell_type": "code",
      "metadata": {
        "id": "FboUFPGWFQTJ"
      },
      "source": [
        "def entropy(x):\n",
        "    p1 = sum(x=='Yes')/len(x)\n",
        "    p2 = sum(x!='Yes')/len(x)\n",
        "    part1 = p1*np.log2(p1)\n",
        "    part2 = p2*np.log2(p2) if p2 != 0 else 0\n",
        "    E = -part1 - part2\n",
        "    return E"
      ],
      "execution_count": 6,
      "outputs": []
    },
    {
      "cell_type": "code",
      "metadata": {
        "colab": {
          "base_uri": "https://localhost:8080/"
        },
        "id": "edHM7O-qFQTJ",
        "outputId": "caffee72-11e7-42bc-9eb4-98a1948b3de0"
      },
      "source": [
        "\n",
        "print(entropy(S))"
      ],
      "execution_count": 7,
      "outputs": [
        {
          "output_type": "stream",
          "text": [
            "0.9402859586706309\n"
          ],
          "name": "stdout"
        }
      ]
    },
    {
      "cell_type": "code",
      "metadata": {
        "colab": {
          "base_uri": "https://localhost:8080/"
        },
        "id": "PolP3hk4FQTK",
        "outputId": "f4c2313c-0714-4689-d142-6378c600408e"
      },
      "source": [
        "entropy(df[df['Outlook']=='Rainy']['Play Golf'])"
      ],
      "execution_count": 8,
      "outputs": [
        {
          "output_type": "execute_result",
          "data": {
            "text/plain": [
              "0.9709505944546686"
            ]
          },
          "metadata": {
            "tags": []
          },
          "execution_count": 8
        }
      ]
    },
    {
      "cell_type": "code",
      "metadata": {
        "colab": {
          "base_uri": "https://localhost:8080/"
        },
        "id": "oNdxna1BFQTK",
        "outputId": "145973d0-e9ad-41d5-a6a7-ab9e3011aee4"
      },
      "source": [
        "entropy(df[df['Outlook']=='Overcast']['Play Golf'])"
      ],
      "execution_count": 9,
      "outputs": [
        {
          "output_type": "execute_result",
          "data": {
            "text/plain": [
              "-0.0"
            ]
          },
          "metadata": {
            "tags": []
          },
          "execution_count": 9
        }
      ]
    },
    {
      "cell_type": "code",
      "metadata": {
        "colab": {
          "base_uri": "https://localhost:8080/"
        },
        "id": "0PBLHZLlFQTM",
        "outputId": "f6b5c807-5e54-4559-d341-130a993e9dac"
      },
      "source": [
        "df['Outlook']"
      ],
      "execution_count": 10,
      "outputs": [
        {
          "output_type": "execute_result",
          "data": {
            "text/plain": [
              "0        Rainy\n",
              "1        Rainy\n",
              "2     Overcast\n",
              "3        Sunny\n",
              "4        Sunny\n",
              "5        Sunny\n",
              "6     Overcast\n",
              "7        Rainy\n",
              "8        Rainy\n",
              "9        Sunny\n",
              "10       Rainy\n",
              "11    Overcast\n",
              "12    Overcast\n",
              "13       Sunny\n",
              "Name: Outlook, dtype: object"
            ]
          },
          "metadata": {
            "tags": []
          },
          "execution_count": 10
        }
      ]
    },
    {
      "cell_type": "code",
      "metadata": {
        "colab": {
          "base_uri": "https://localhost:8080/"
        },
        "id": "0e6CEFbgFQTM",
        "outputId": "1eee1589-edc0-4245-ba26-e2cc8df2b7e8"
      },
      "source": [
        "df[df['Outlook']=='Sunny']\n",
        "len(df[df['Outlook']=='Sunny'])"
      ],
      "execution_count": 11,
      "outputs": [
        {
          "output_type": "execute_result",
          "data": {
            "text/plain": [
              "5"
            ]
          },
          "metadata": {
            "tags": []
          },
          "execution_count": 11
        }
      ]
    },
    {
      "cell_type": "code",
      "metadata": {
        "id": "D-eYSJUiFQTN"
      },
      "source": [
        "Sun = df[df['Outlook']=='Sunny']['Play Golf']"
      ],
      "execution_count": 12,
      "outputs": []
    },
    {
      "cell_type": "code",
      "metadata": {
        "colab": {
          "base_uri": "https://localhost:8080/"
        },
        "id": "dg05VtfIFQTN",
        "outputId": "012080a3-ce53-456a-e322-d15c91770854"
      },
      "source": [
        "entropy(Sun)"
      ],
      "execution_count": 13,
      "outputs": [
        {
          "output_type": "execute_result",
          "data": {
            "text/plain": [
              "0.9709505944546686"
            ]
          },
          "metadata": {
            "tags": []
          },
          "execution_count": 13
        }
      ]
    },
    {
      "cell_type": "code",
      "metadata": {
        "id": "rjpyOGlwFQTO"
      },
      "source": [
        "Rain = df[df['Outlook']=='Rainy']['Play Golf']"
      ],
      "execution_count": 14,
      "outputs": []
    },
    {
      "cell_type": "code",
      "metadata": {
        "colab": {
          "base_uri": "https://localhost:8080/"
        },
        "id": "kKlRGqGNFQTO",
        "outputId": "5619f205-b1c8-47fa-f7c7-4476526246a5"
      },
      "source": [
        "entropy(Rain)"
      ],
      "execution_count": 15,
      "outputs": [
        {
          "output_type": "execute_result",
          "data": {
            "text/plain": [
              "0.9709505944546686"
            ]
          },
          "metadata": {
            "tags": []
          },
          "execution_count": 15
        }
      ]
    },
    {
      "cell_type": "code",
      "metadata": {
        "colab": {
          "base_uri": "https://localhost:8080/"
        },
        "id": "OEsAqAwrFQTO",
        "outputId": "30e7a4dc-8a20-4243-a32d-1ec4b8b53b98"
      },
      "source": [
        "\n",
        "sunnyModel =(len(df[df['Outlook']=='Sunny'])/len(df))*entropy(Sun)\n",
        "RainyModel =(len(df[df['Outlook']=='Rainy'])/len(df))*entropy(Rain)\n",
        "print(sunnyModel)\n",
        "print(RainyModel)"
      ],
      "execution_count": 16,
      "outputs": [
        {
          "output_type": "stream",
          "text": [
            "0.3467680694480959\n",
            "0.3467680694480959\n"
          ],
          "name": "stdout"
        }
      ]
    },
    {
      "cell_type": "code",
      "metadata": {
        "colab": {
          "base_uri": "https://localhost:8080/"
        },
        "id": "eBRP79MpFQTP",
        "outputId": "1d93f522-61ee-4bd9-fbf3-b8c91412c0fe"
      },
      "source": [
        "I = sunnyModel+RainyModel \n",
        "print(I)"
      ],
      "execution_count": 17,
      "outputs": [
        {
          "output_type": "stream",
          "text": [
            "0.6935361388961918\n"
          ],
          "name": "stdout"
        }
      ]
    },
    {
      "cell_type": "code",
      "metadata": {
        "colab": {
          "base_uri": "https://localhost:8080/"
        },
        "id": "SAZPxgwQFQTP",
        "outputId": "3dfa4b6c-7dc9-4b1a-bc39-346246262220"
      },
      "source": [
        "H = df[df['Humidity']=='High']['Play Golf']\n",
        "N = df[df['Humidity']=='Normal']['Play Golf']\n",
        "print(entropy(H))\n",
        "print(entropy(N))"
      ],
      "execution_count": 18,
      "outputs": [
        {
          "output_type": "stream",
          "text": [
            "0.9852281360342515\n",
            "0.5916727785823275\n"
          ],
          "name": "stdout"
        }
      ]
    },
    {
      "cell_type": "code",
      "metadata": {
        "colab": {
          "base_uri": "https://localhost:8080/"
        },
        "id": "P5sapCGWFQTQ",
        "outputId": "6c964df8-74f1-4ea2-c14c-577387dd8ee5"
      },
      "source": [
        "HighH = (len (df[df['Humidity']=='High'])/ len(df))*entropy(H)\n",
        "NormalH =(len (df[df['Humidity']=='Normal'])/ len(df))*entropy(N)\n",
        "GainHumidity = entropy(S)-HighH-NormalH\n",
        "print(GainHumidity)"
      ],
      "execution_count": 19,
      "outputs": [
        {
          "output_type": "stream",
          "text": [
            "0.15183550136234142\n"
          ],
          "name": "stdout"
        }
      ]
    },
    {
      "cell_type": "code",
      "metadata": {
        "colab": {
          "base_uri": "https://localhost:8080/"
        },
        "id": "X_GY0ProFQTQ",
        "outputId": "b7168d5d-c4cf-43a8-ee14-0e1459fde531"
      },
      "source": [
        "GainOutlook = entropy(S)-sunnyModel-RainyModel\n",
        "print(GainOutlook)"
      ],
      "execution_count": 20,
      "outputs": [
        {
          "output_type": "stream",
          "text": [
            "0.2467498197744391\n"
          ],
          "name": "stdout"
        }
      ]
    },
    {
      "cell_type": "code",
      "metadata": {
        "colab": {
          "base_uri": "https://localhost:8080/"
        },
        "id": "XvCbu-QMFQTQ",
        "outputId": "a086b539-64a9-4a53-db82-08ad5ac8e0e3"
      },
      "source": [
        "Hot = df[df['Temp']=='Hot']['Play Golf']\n",
        "Mild = df[df['Temp']=='Mild']['Play Golf']\n",
        "Cool = df[df['Temp']=='Cool']['Play Golf']\n",
        "print(entropy(Hot))\n",
        "print(entropy(Mild))\n",
        "print(entropy(Cool))"
      ],
      "execution_count": 21,
      "outputs": [
        {
          "output_type": "stream",
          "text": [
            "1.0\n",
            "0.9182958340544896\n",
            "0.8112781244591328\n"
          ],
          "name": "stdout"
        }
      ]
    },
    {
      "cell_type": "code",
      "metadata": {
        "colab": {
          "base_uri": "https://localhost:8080/"
        },
        "id": "89U6B8AeFQTR",
        "outputId": "81201646-1989-4b39-9c79-304c3a80267d"
      },
      "source": [
        "HotT = (len (df[df['Temp']=='Hot'])/ len(df))*entropy(Hot)\n",
        "MildT =(len (df[df['Temp']=='Mild'])/ len(df))*entropy(Mild)\n",
        "CoolT =(len (df[df['Temp']=='Cool'])/ len(df))*entropy(Cool)\n",
        "GainTemp = entropy(S)-HotT-MildT-CoolT\n",
        "print(GainTemp)"
      ],
      "execution_count": 22,
      "outputs": [
        {
          "output_type": "stream",
          "text": [
            "0.029222565658954647\n"
          ],
          "name": "stdout"
        }
      ]
    },
    {
      "cell_type": "code",
      "metadata": {
        "colab": {
          "base_uri": "https://localhost:8080/"
        },
        "id": "ub4F_IJoFQTR",
        "outputId": "6285094e-5e10-4fa3-98e8-a0d9ff788bf6"
      },
      "source": [
        "df[\"Windy\"] = df['Windy'].astype('str')\n",
        "df\n",
        "Weak = df[df['Windy']=='False']['Play Golf']\n",
        "Strong = df[df['Windy']=='True']['Play Golf']\n",
        "print(entropy(Weak))\n",
        "print(entropy(Strong))\n"
      ],
      "execution_count": 23,
      "outputs": [
        {
          "output_type": "stream",
          "text": [
            "0.8112781244591328\n",
            "1.0\n"
          ],
          "name": "stdout"
        }
      ]
    },
    {
      "cell_type": "code",
      "metadata": {
        "colab": {
          "base_uri": "https://localhost:8080/",
          "height": 467
        },
        "id": "37SduMQEFQTS",
        "outputId": "3606fb46-c1ae-4f30-9ca6-16e261d96090"
      },
      "source": [
        "df['Windy'] = df['Windy'].astype(str)\n",
        "df"
      ],
      "execution_count": 24,
      "outputs": [
        {
          "output_type": "execute_result",
          "data": {
            "text/html": [
              "<div>\n",
              "<style scoped>\n",
              "    .dataframe tbody tr th:only-of-type {\n",
              "        vertical-align: middle;\n",
              "    }\n",
              "\n",
              "    .dataframe tbody tr th {\n",
              "        vertical-align: top;\n",
              "    }\n",
              "\n",
              "    .dataframe thead th {\n",
              "        text-align: right;\n",
              "    }\n",
              "</style>\n",
              "<table border=\"1\" class=\"dataframe\">\n",
              "  <thead>\n",
              "    <tr style=\"text-align: right;\">\n",
              "      <th></th>\n",
              "      <th>Outlook</th>\n",
              "      <th>Temp</th>\n",
              "      <th>Humidity</th>\n",
              "      <th>Windy</th>\n",
              "      <th>Play Golf</th>\n",
              "    </tr>\n",
              "  </thead>\n",
              "  <tbody>\n",
              "    <tr>\n",
              "      <th>0</th>\n",
              "      <td>Rainy</td>\n",
              "      <td>Hot</td>\n",
              "      <td>High</td>\n",
              "      <td>False</td>\n",
              "      <td>No</td>\n",
              "    </tr>\n",
              "    <tr>\n",
              "      <th>1</th>\n",
              "      <td>Rainy</td>\n",
              "      <td>Hot</td>\n",
              "      <td>High</td>\n",
              "      <td>True</td>\n",
              "      <td>No</td>\n",
              "    </tr>\n",
              "    <tr>\n",
              "      <th>2</th>\n",
              "      <td>Overcast</td>\n",
              "      <td>Hot</td>\n",
              "      <td>High</td>\n",
              "      <td>False</td>\n",
              "      <td>Yes</td>\n",
              "    </tr>\n",
              "    <tr>\n",
              "      <th>3</th>\n",
              "      <td>Sunny</td>\n",
              "      <td>Mild</td>\n",
              "      <td>High</td>\n",
              "      <td>False</td>\n",
              "      <td>Yes</td>\n",
              "    </tr>\n",
              "    <tr>\n",
              "      <th>4</th>\n",
              "      <td>Sunny</td>\n",
              "      <td>Cool</td>\n",
              "      <td>Normal</td>\n",
              "      <td>False</td>\n",
              "      <td>Yes</td>\n",
              "    </tr>\n",
              "    <tr>\n",
              "      <th>5</th>\n",
              "      <td>Sunny</td>\n",
              "      <td>Cool</td>\n",
              "      <td>Normal</td>\n",
              "      <td>True</td>\n",
              "      <td>No</td>\n",
              "    </tr>\n",
              "    <tr>\n",
              "      <th>6</th>\n",
              "      <td>Overcast</td>\n",
              "      <td>Cool</td>\n",
              "      <td>Normal</td>\n",
              "      <td>True</td>\n",
              "      <td>Yes</td>\n",
              "    </tr>\n",
              "    <tr>\n",
              "      <th>7</th>\n",
              "      <td>Rainy</td>\n",
              "      <td>Mild</td>\n",
              "      <td>High</td>\n",
              "      <td>False</td>\n",
              "      <td>No</td>\n",
              "    </tr>\n",
              "    <tr>\n",
              "      <th>8</th>\n",
              "      <td>Rainy</td>\n",
              "      <td>Cool</td>\n",
              "      <td>Normal</td>\n",
              "      <td>False</td>\n",
              "      <td>Yes</td>\n",
              "    </tr>\n",
              "    <tr>\n",
              "      <th>9</th>\n",
              "      <td>Sunny</td>\n",
              "      <td>Mild</td>\n",
              "      <td>Normal</td>\n",
              "      <td>False</td>\n",
              "      <td>Yes</td>\n",
              "    </tr>\n",
              "    <tr>\n",
              "      <th>10</th>\n",
              "      <td>Rainy</td>\n",
              "      <td>Mild</td>\n",
              "      <td>Normal</td>\n",
              "      <td>True</td>\n",
              "      <td>Yes</td>\n",
              "    </tr>\n",
              "    <tr>\n",
              "      <th>11</th>\n",
              "      <td>Overcast</td>\n",
              "      <td>Mild</td>\n",
              "      <td>High</td>\n",
              "      <td>True</td>\n",
              "      <td>Yes</td>\n",
              "    </tr>\n",
              "    <tr>\n",
              "      <th>12</th>\n",
              "      <td>Overcast</td>\n",
              "      <td>Hot</td>\n",
              "      <td>Normal</td>\n",
              "      <td>False</td>\n",
              "      <td>Yes</td>\n",
              "    </tr>\n",
              "    <tr>\n",
              "      <th>13</th>\n",
              "      <td>Sunny</td>\n",
              "      <td>Mild</td>\n",
              "      <td>High</td>\n",
              "      <td>True</td>\n",
              "      <td>No</td>\n",
              "    </tr>\n",
              "  </tbody>\n",
              "</table>\n",
              "</div>"
            ],
            "text/plain": [
              "     Outlook  Temp Humidity  Windy Play Golf\n",
              "0      Rainy   Hot     High  False        No\n",
              "1      Rainy   Hot     High   True        No\n",
              "2   Overcast   Hot     High  False       Yes\n",
              "3      Sunny  Mild     High  False       Yes\n",
              "4      Sunny  Cool   Normal  False       Yes\n",
              "5      Sunny  Cool   Normal   True        No\n",
              "6   Overcast  Cool   Normal   True       Yes\n",
              "7      Rainy  Mild     High  False        No\n",
              "8      Rainy  Cool   Normal  False       Yes\n",
              "9      Sunny  Mild   Normal  False       Yes\n",
              "10     Rainy  Mild   Normal   True       Yes\n",
              "11  Overcast  Mild     High   True       Yes\n",
              "12  Overcast   Hot   Normal  False       Yes\n",
              "13     Sunny  Mild     High   True        No"
            ]
          },
          "metadata": {
            "tags": []
          },
          "execution_count": 24
        }
      ]
    },
    {
      "cell_type": "code",
      "metadata": {
        "colab": {
          "base_uri": "https://localhost:8080/"
        },
        "id": "IuU16BGtFQTS",
        "outputId": "94288eb6-442d-4610-c055-9a30e2d3f13d"
      },
      "source": [
        "WeakW = (len (df[df['Windy']=='False'])/ len(df))*entropy(Weak)\n",
        "strongW = (len (df[df['Windy']=='True'])/ len(df))*entropy(Strong)\n",
        "GainWind = entropy(S)-WeakW-strongW\n",
        "print(GainWind)"
      ],
      "execution_count": 25,
      "outputs": [
        {
          "output_type": "stream",
          "text": [
            "0.04812703040826932\n"
          ],
          "name": "stdout"
        }
      ]
    },
    {
      "cell_type": "code",
      "metadata": {
        "id": "4VyAsGscFQTS"
      },
      "source": [
        "from sklearn.model_selection import train_test_split \n",
        "from sklearn.tree import DecisionTreeClassifier \n",
        "from sklearn.metrics import accuracy_score \n",
        "from sklearn import tree \n",
        "from sklearn.preprocessing import LabelEncoder\n",
        "import pandas as pd \n",
        "import numpy as np \n",
        "lb = LabelEncoder() \n",
        "df[\"Outlook\"] = lb.fit_transform(df['Outlook']) \n",
        "df[\"Temp\"] = lb.fit_transform(df['Temp'] ) \n",
        "df[\"Humidity\"] = lb.fit_transform(df['Humidity'] ) \n",
        "df[\"Windy\"] = lb.fit_transform(df['Windy'] )   \n",
        "df[\"Play Golf\"] = lb.fit_transform(df['Play Golf'] )\n",
        "X = df.iloc[:,0:4] \n",
        "Y = df.iloc[:,4]\n",
        "clf = DecisionTreeClassifier(random_state=1234)\n",
        "model = clf.fit(X, Y)"
      ],
      "execution_count": 26,
      "outputs": []
    },
    {
      "cell_type": "code",
      "metadata": {
        "colab": {
          "base_uri": "https://localhost:8080/"
        },
        "id": "DDKdogDjFQTS",
        "outputId": "37690efc-5065-4368-d9aa-f73473718432"
      },
      "source": [
        "text_representation = tree.export_text(clf)\n",
        "print(text_representation)"
      ],
      "execution_count": 27,
      "outputs": [
        {
          "output_type": "stream",
          "text": [
            "|--- feature_0 <= 0.50\n",
            "|   |--- class: 1\n",
            "|--- feature_0 >  0.50\n",
            "|   |--- feature_2 <= 0.50\n",
            "|   |   |--- feature_0 <= 1.50\n",
            "|   |   |   |--- class: 0\n",
            "|   |   |--- feature_0 >  1.50\n",
            "|   |   |   |--- feature_3 <= 0.50\n",
            "|   |   |   |   |--- class: 1\n",
            "|   |   |   |--- feature_3 >  0.50\n",
            "|   |   |   |   |--- class: 0\n",
            "|   |--- feature_2 >  0.50\n",
            "|   |   |--- feature_3 <= 0.50\n",
            "|   |   |   |--- class: 1\n",
            "|   |   |--- feature_3 >  0.50\n",
            "|   |   |   |--- feature_0 <= 1.50\n",
            "|   |   |   |   |--- class: 1\n",
            "|   |   |   |--- feature_0 >  1.50\n",
            "|   |   |   |   |--- class: 0\n",
            "\n"
          ],
          "name": "stdout"
        }
      ]
    },
    {
      "cell_type": "code",
      "metadata": {
        "id": "WESU11w7FQTT"
      },
      "source": [
        ""
      ],
      "execution_count": null,
      "outputs": []
    },
    {
      "cell_type": "code",
      "metadata": {
        "id": "6k-kqv2jFQTT"
      },
      "source": [
        ""
      ],
      "execution_count": null,
      "outputs": []
    }
  ]
}